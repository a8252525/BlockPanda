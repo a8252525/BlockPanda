{
 "cells": [
  {
   "cell_type": "code",
   "execution_count": 342,
   "metadata": {},
   "outputs": [],
   "source": [
    "import eospy\n",
    "from eospy.cleos import Cleos\n",
    "import pytz\n",
    "import random\n",
    "import datetime\n",
    "import time\n",
    "import csv\n",
    "import pandas as pd\n",
    "import numpy as np\n",
    "\n",
    "from pyvis.network import Network\n",
    "import networkx as nx\n",
    "\n",
    "ce = Cleos(url='https://api.testnet.eos.io')\n",
    "info = ce.get_info()"
   ]
  },
  {
   "cell_type": "code",
   "execution_count": 343,
   "metadata": {},
   "outputs": [
    {
     "name": "stdout",
     "output_type": "stream",
     "text": [
      "{'server_version': 'b39b6bd3', 'chain_id': 'cf057bbfb72640471fd910bcb67639c22df9f92470936cddc1ade0e2f2e7dc4f', 'head_block_num': 6433138, 'last_irreversible_block_num': 6432810, 'last_irreversible_block_id': '0062282a130d10976717ae378ab3164ee6e8aab1205b1559be6d06a986844984', 'head_block_id': '00622972c07b26b060065cda2512aa00e64f50d13cde32811da0c20f69342cd3', 'head_block_time': '2020-05-30T11:29:55.500', 'head_block_producer': 'initl', 'virtual_block_cpu_limit': 200000000, 'virtual_block_net_limit': 1048576000, 'block_cpu_limit': 199900, 'block_net_limit': 1048576, 'server_version_string': 'v2.0.4', 'fork_db_head_block_num': 6433138, 'fork_db_head_block_id': '00622972c07b26b060065cda2512aa00e64f50d13cde32811da0c20f69342cd3', 'server_full_version_string': 'v2.0.4-b39b6bd3c74ff47fc53fa80aafa2c1941ba82879'}\n"
     ]
    }
   ],
   "source": [
    "print(info)"
   ]
  },
  {
   "cell_type": "code",
   "execution_count": 344,
   "metadata": {},
   "outputs": [],
   "source": [
    "data_index = ['txid', 'customer', 'temp_cus', 'time_c', 'r_cook', 'temp_rc', 'time_rw', 'r_w', 'temp_rw', 'time_rw', 'de', 'temp_de', 'time_de']"
   ]
  },
  {
   "cell_type": "code",
   "execution_count": 345,
   "metadata": {},
   "outputs": [],
   "source": [
    "data_save = []"
   ]
  },
  {
   "cell_type": "code",
   "execution_count": 346,
   "metadata": {},
   "outputs": [],
   "source": [
    "get_table = ce.get_table('ozjkloygsxzk','ozjkloygsxzk', 'people',lower_bound='10000000',limit=-1)"
   ]
  },
  {
   "cell_type": "code",
   "execution_count": 347,
   "metadata": {},
   "outputs": [],
   "source": [
    "#get_table"
   ]
  },
  {
   "cell_type": "code",
   "execution_count": 348,
   "metadata": {},
   "outputs": [],
   "source": [
    "data_save = []\n",
    "for i in get_table['rows']:\n",
    "    data = []\n",
    "    for k in data_index:\n",
    "        data.append(i[k])\n",
    "    data_save.append(data)"
   ]
  },
  {
   "cell_type": "code",
   "execution_count": 349,
   "metadata": {},
   "outputs": [],
   "source": [
    "df = pd.DataFrame(data_save)\n",
    "df_new = df.rename(columns=lambda s: data_index[s])"
   ]
  },
  {
   "cell_type": "code",
   "execution_count": 350,
   "metadata": {},
   "outputs": [],
   "source": [
    "# df_new"
   ]
  },
  {
   "cell_type": "code",
   "execution_count": 351,
   "metadata": {},
   "outputs": [],
   "source": [
    "for i in data_index:\n",
    "    df_new[i] = df_new[i].replace('', np.nan)\n",
    "df_new = df_new.dropna()"
   ]
  },
  {
   "cell_type": "code",
   "execution_count": 352,
   "metadata": {},
   "outputs": [],
   "source": [
    "# https://chrisalbon.com/python/data_wrangling/pandas_selecting_rows_on_conditions/\n",
    "\n",
    "lower_bound = df_new['time_c'] > '2020-05-30 19:25:56'\n",
    "upper_bound = df_new['time_c'] < '2020-05-30 19:29:29'"
   ]
  },
  {
   "cell_type": "code",
   "execution_count": 353,
   "metadata": {},
   "outputs": [],
   "source": [
    "# lower_bound"
   ]
  },
  {
   "cell_type": "code",
   "execution_count": 354,
   "metadata": {},
   "outputs": [
    {
     "name": "stderr",
     "output_type": "stream",
     "text": [
      "/opt/conda/lib/python3.6/site-packages/ipykernel_launcher.py:2: UserWarning: Boolean Series key will be reindexed to match DataFrame index.\n",
      "  \n"
     ]
    },
    {
     "data": {
      "text/html": [
       "<div>\n",
       "<style scoped>\n",
       "    .dataframe tbody tr th:only-of-type {\n",
       "        vertical-align: middle;\n",
       "    }\n",
       "\n",
       "    .dataframe tbody tr th {\n",
       "        vertical-align: top;\n",
       "    }\n",
       "\n",
       "    .dataframe thead th {\n",
       "        text-align: right;\n",
       "    }\n",
       "</style>\n",
       "<table border=\"1\" class=\"dataframe\">\n",
       "  <thead>\n",
       "    <tr style=\"text-align: right;\">\n",
       "      <th></th>\n",
       "      <th>txid</th>\n",
       "      <th>customer</th>\n",
       "      <th>temp_cus</th>\n",
       "      <th>time_c</th>\n",
       "      <th>r_cook</th>\n",
       "      <th>temp_rc</th>\n",
       "      <th>time_rw</th>\n",
       "      <th>r_w</th>\n",
       "      <th>temp_rw</th>\n",
       "      <th>time_rw</th>\n",
       "      <th>de</th>\n",
       "      <th>temp_de</th>\n",
       "      <th>time_de</th>\n",
       "    </tr>\n",
       "  </thead>\n",
       "  <tbody>\n",
       "    <tr>\n",
       "      <th>68</th>\n",
       "      <td>72251699</td>\n",
       "      <td>tdmdwfbyrieq</td>\n",
       "      <td>36.7</td>\n",
       "      <td>2020-05-30 19:25:57</td>\n",
       "      <td>nrcxmhvmmdws</td>\n",
       "      <td>36.1</td>\n",
       "      <td>2020-05-30 19:26:03</td>\n",
       "      <td>nrcxmhvmmdws</td>\n",
       "      <td>36.1</td>\n",
       "      <td>2020-05-30 19:26:03</td>\n",
       "      <td>cqttboxcmqbg</td>\n",
       "      <td>36.2</td>\n",
       "      <td>2020-05-30 19:26:07</td>\n",
       "    </tr>\n",
       "    <tr>\n",
       "      <th>10</th>\n",
       "      <td>17994248</td>\n",
       "      <td>tdmdwfbyrieq</td>\n",
       "      <td>36.2</td>\n",
       "      <td>2020-05-30 19:26:10</td>\n",
       "      <td>mflhbiwckvye</td>\n",
       "      <td>37.3</td>\n",
       "      <td>2020-05-30 19:26:18</td>\n",
       "      <td>mflhbiwckvye</td>\n",
       "      <td>37.3</td>\n",
       "      <td>2020-05-30 19:26:18</td>\n",
       "      <td>bogidqzffpoq</td>\n",
       "      <td>36.6</td>\n",
       "      <td>2020-05-30 19:26:22</td>\n",
       "    </tr>\n",
       "    <tr>\n",
       "      <th>61</th>\n",
       "      <td>66808893</td>\n",
       "      <td>fbxruqcaetsa</td>\n",
       "      <td>36.0</td>\n",
       "      <td>2020-05-30 19:26:26</td>\n",
       "      <td>tavwwqactbew</td>\n",
       "      <td>36.4</td>\n",
       "      <td>2020-05-30 19:26:33</td>\n",
       "      <td>tavwwqactbew</td>\n",
       "      <td>36.4</td>\n",
       "      <td>2020-05-30 19:26:33</td>\n",
       "      <td>azdyojobmkea</td>\n",
       "      <td>36.2</td>\n",
       "      <td>2020-05-30 19:26:36</td>\n",
       "    </tr>\n",
       "    <tr>\n",
       "      <th>89</th>\n",
       "      <td>89903591</td>\n",
       "      <td>xmlllqshzxgq</td>\n",
       "      <td>37.2</td>\n",
       "      <td>2020-05-30 19:26:40</td>\n",
       "      <td>nrcxmhvmmdws</td>\n",
       "      <td>37.0</td>\n",
       "      <td>2020-05-30 19:26:47</td>\n",
       "      <td>nrcxmhvmmdws</td>\n",
       "      <td>37.0</td>\n",
       "      <td>2020-05-30 19:26:47</td>\n",
       "      <td>jmgpjsfyhqmc</td>\n",
       "      <td>37.4</td>\n",
       "      <td>2020-05-30 19:26:51</td>\n",
       "    </tr>\n",
       "    <tr>\n",
       "      <th>95</th>\n",
       "      <td>93912590</td>\n",
       "      <td>vdqfllefkglk</td>\n",
       "      <td>36.4</td>\n",
       "      <td>2020-05-30 19:26:55</td>\n",
       "      <td>cslsovhydlks</td>\n",
       "      <td>37.2</td>\n",
       "      <td>2020-05-30 19:27:04</td>\n",
       "      <td>cslsovhydlks</td>\n",
       "      <td>37.2</td>\n",
       "      <td>2020-05-30 19:27:04</td>\n",
       "      <td>wtvpjqkffkem</td>\n",
       "      <td>36.9</td>\n",
       "      <td>2020-05-30 19:27:09</td>\n",
       "    </tr>\n",
       "    <tr>\n",
       "      <th>40</th>\n",
       "      <td>48720094</td>\n",
       "      <td>nzquzuexsbqw</td>\n",
       "      <td>37.3</td>\n",
       "      <td>2020-05-30 19:27:12</td>\n",
       "      <td>tavwwqactbew</td>\n",
       "      <td>37.4</td>\n",
       "      <td>2020-05-30 19:27:19</td>\n",
       "      <td>tavwwqactbew</td>\n",
       "      <td>37.4</td>\n",
       "      <td>2020-05-30 19:27:19</td>\n",
       "      <td>jmgpjsfyhqmc</td>\n",
       "      <td>36.1</td>\n",
       "      <td>2020-05-30 19:27:23</td>\n",
       "    </tr>\n",
       "    <tr>\n",
       "      <th>93</th>\n",
       "      <td>92707776</td>\n",
       "      <td>fbxruqcaetsa</td>\n",
       "      <td>36.2</td>\n",
       "      <td>2020-05-30 19:27:26</td>\n",
       "      <td>mflhbiwckvye</td>\n",
       "      <td>36.9</td>\n",
       "      <td>2020-05-30 19:27:34</td>\n",
       "      <td>mflhbiwckvye</td>\n",
       "      <td>36.9</td>\n",
       "      <td>2020-05-30 19:27:34</td>\n",
       "      <td>wtvpjqkffkem</td>\n",
       "      <td>36.9</td>\n",
       "      <td>2020-05-30 19:27:37</td>\n",
       "    </tr>\n",
       "    <tr>\n",
       "      <th>51</th>\n",
       "      <td>62093289</td>\n",
       "      <td>fbxruqcaetsa</td>\n",
       "      <td>36.4</td>\n",
       "      <td>2020-05-30 19:27:41</td>\n",
       "      <td>tavwwqactbew</td>\n",
       "      <td>36.5</td>\n",
       "      <td>2020-05-30 19:27:49</td>\n",
       "      <td>tavwwqactbew</td>\n",
       "      <td>36.5</td>\n",
       "      <td>2020-05-30 19:27:49</td>\n",
       "      <td>bhmtdvrjksmm</td>\n",
       "      <td>36.7</td>\n",
       "      <td>2020-05-30 19:27:53</td>\n",
       "    </tr>\n",
       "    <tr>\n",
       "      <th>79</th>\n",
       "      <td>80592183</td>\n",
       "      <td>nzquzuexsbqw</td>\n",
       "      <td>37.2</td>\n",
       "      <td>2020-05-30 19:27:56</td>\n",
       "      <td>cslsovhydlks</td>\n",
       "      <td>36.6</td>\n",
       "      <td>2020-05-30 19:28:04</td>\n",
       "      <td>cslsovhydlks</td>\n",
       "      <td>36.6</td>\n",
       "      <td>2020-05-30 19:28:04</td>\n",
       "      <td>izwatdoooomk</td>\n",
       "      <td>37.2</td>\n",
       "      <td>2020-05-30 19:28:08</td>\n",
       "    </tr>\n",
       "    <tr>\n",
       "      <th>92</th>\n",
       "      <td>90432220</td>\n",
       "      <td>vdqfllefkglk</td>\n",
       "      <td>36.9</td>\n",
       "      <td>2020-05-30 19:28:11</td>\n",
       "      <td>tavwwqactbew</td>\n",
       "      <td>36.3</td>\n",
       "      <td>2020-05-30 19:28:20</td>\n",
       "      <td>tavwwqactbew</td>\n",
       "      <td>36.3</td>\n",
       "      <td>2020-05-30 19:28:20</td>\n",
       "      <td>azvaphsayems</td>\n",
       "      <td>37.5</td>\n",
       "      <td>2020-05-30 19:28:24</td>\n",
       "    </tr>\n",
       "  </tbody>\n",
       "</table>\n",
       "</div>"
      ],
      "text/plain": [
       "        txid      customer temp_cus               time_c        r_cook  \\\n",
       "68  72251699  tdmdwfbyrieq     36.7  2020-05-30 19:25:57  nrcxmhvmmdws   \n",
       "10  17994248  tdmdwfbyrieq     36.2  2020-05-30 19:26:10  mflhbiwckvye   \n",
       "61  66808893  fbxruqcaetsa     36.0  2020-05-30 19:26:26  tavwwqactbew   \n",
       "89  89903591  xmlllqshzxgq     37.2  2020-05-30 19:26:40  nrcxmhvmmdws   \n",
       "95  93912590  vdqfllefkglk     36.4  2020-05-30 19:26:55  cslsovhydlks   \n",
       "40  48720094  nzquzuexsbqw     37.3  2020-05-30 19:27:12  tavwwqactbew   \n",
       "93  92707776  fbxruqcaetsa     36.2  2020-05-30 19:27:26  mflhbiwckvye   \n",
       "51  62093289  fbxruqcaetsa     36.4  2020-05-30 19:27:41  tavwwqactbew   \n",
       "79  80592183  nzquzuexsbqw     37.2  2020-05-30 19:27:56  cslsovhydlks   \n",
       "92  90432220  vdqfllefkglk     36.9  2020-05-30 19:28:11  tavwwqactbew   \n",
       "\n",
       "   temp_rc              time_rw           r_w temp_rw              time_rw  \\\n",
       "68    36.1  2020-05-30 19:26:03  nrcxmhvmmdws    36.1  2020-05-30 19:26:03   \n",
       "10    37.3  2020-05-30 19:26:18  mflhbiwckvye    37.3  2020-05-30 19:26:18   \n",
       "61    36.4  2020-05-30 19:26:33  tavwwqactbew    36.4  2020-05-30 19:26:33   \n",
       "89    37.0  2020-05-30 19:26:47  nrcxmhvmmdws    37.0  2020-05-30 19:26:47   \n",
       "95    37.2  2020-05-30 19:27:04  cslsovhydlks    37.2  2020-05-30 19:27:04   \n",
       "40    37.4  2020-05-30 19:27:19  tavwwqactbew    37.4  2020-05-30 19:27:19   \n",
       "93    36.9  2020-05-30 19:27:34  mflhbiwckvye    36.9  2020-05-30 19:27:34   \n",
       "51    36.5  2020-05-30 19:27:49  tavwwqactbew    36.5  2020-05-30 19:27:49   \n",
       "79    36.6  2020-05-30 19:28:04  cslsovhydlks    36.6  2020-05-30 19:28:04   \n",
       "92    36.3  2020-05-30 19:28:20  tavwwqactbew    36.3  2020-05-30 19:28:20   \n",
       "\n",
       "              de temp_de              time_de  \n",
       "68  cqttboxcmqbg    36.2  2020-05-30 19:26:07  \n",
       "10  bogidqzffpoq    36.6  2020-05-30 19:26:22  \n",
       "61  azdyojobmkea    36.2  2020-05-30 19:26:36  \n",
       "89  jmgpjsfyhqmc    37.4  2020-05-30 19:26:51  \n",
       "95  wtvpjqkffkem    36.9  2020-05-30 19:27:09  \n",
       "40  jmgpjsfyhqmc    36.1  2020-05-30 19:27:23  \n",
       "93  wtvpjqkffkem    36.9  2020-05-30 19:27:37  \n",
       "51  bhmtdvrjksmm    36.7  2020-05-30 19:27:53  \n",
       "79  izwatdoooomk    37.2  2020-05-30 19:28:08  \n",
       "92  azvaphsayems    37.5  2020-05-30 19:28:24  "
      ]
     },
     "execution_count": 354,
     "metadata": {},
     "output_type": "execute_result"
    }
   ],
   "source": [
    "df_new = df_new.sort_values(by=['time_c'])\n",
    "df_new = df_new[lower_bound & upper_bound]\n",
    "df_new"
   ]
  },
  {
   "cell_type": "code",
   "execution_count": 356,
   "metadata": {},
   "outputs": [],
   "source": [
    "one = df_new.iloc[2]\n",
    "# df_new.to_json(orient='values')\n",
    "\n",
    "# df_new.to_numpy()\n",
    "# 1 4 10"
   ]
  },
  {
   "cell_type": "code",
   "execution_count": null,
   "metadata": {},
   "outputs": [],
   "source": []
  },
  {
   "cell_type": "code",
   "execution_count": 357,
   "metadata": {},
   "outputs": [],
   "source": [
    "def make_comment_by_name(name, df, who='customer'):\n",
    "    if who in 'customer':\n",
    "        name_filter = df_new['customer'] == name\n",
    "    elif who in 'restaurant':\n",
    "        name_filter = df_new['r_cook'] == name\n",
    "    elif who in 'deliver':\n",
    "        name_filter = df_new['de'] == name\n",
    "        \n",
    "    df_name = df[name_filter]\n",
    "    #print(df_name)\n",
    "    #st = df_name.to_json(orient='records')\n",
    "    st = df_name.to_numpy()\n",
    "    \n",
    "    st_op = ''\n",
    "    for i in range(len(st)):\n",
    "        st_op += '<b>[Order] '+format(i+1) +'</b><br>'\n",
    "        for k in range(len(st[i])):\n",
    "            st_op += '<t>'+format(data_index[k])+' : '+ format(st[i][k]) +'<br>'\n",
    "    \n",
    "    return st_op"
   ]
  },
  {
   "cell_type": "code",
   "execution_count": 365,
   "metadata": {},
   "outputs": [],
   "source": [
    "def create_graph_from_panda(g,df):\n",
    "    total_customers = list(df.groupby(\"customer\").groups)\n",
    "    total_restaurants = list(df.groupby(\"r_cook\").groups)\n",
    "    total_deliver_mans = list(df.groupby(\"de\").groups)\n",
    "    \n",
    "    num_of_node_name_id = []\n",
    "    \n",
    "    for i in range(len(total_customers)):\n",
    "        g.add_nodes([i],\n",
    "                value=[10],\n",
    "                title=[make_comment_by_name(total_customers[i], df, who='customer')],\n",
    "                label=[total_customers[i]],\n",
    "                color=['#688FF2'])\n",
    "        num_of_node_name_id.append(total_customers[i])\n",
    "    \n",
    "    for i in range(len(total_restaurants)):\n",
    "        g.add_nodes([i+len(total_customers)],\n",
    "                value=[10],\n",
    "                title=[make_comment_by_name(total_restaurants[i], df, who='restaurant')],\n",
    "                label=[total_restaurants[i]],\n",
    "                color=['#E8728B'])\n",
    "        num_of_node_name_id.append(total_restaurants[i])\n",
    "        \n",
    "    for i in range(len(total_deliver_mans)):\n",
    "        g.add_nodes([i+len(total_customers)+len(total_restaurants)],\n",
    "                value=[10],\n",
    "                title=[make_comment_by_name(total_deliver_mans[i], df, who='deliver')],\n",
    "                label=[total_deliver_mans[i]],\n",
    "                color=['#98E872'])\n",
    "        num_of_node_name_id.append(total_deliver_mans[i])\n",
    "        \n",
    "    edges = []\n",
    "    #print(num_of_node_name_id)\n",
    "    \n",
    "    for i in df.to_numpy():\n",
    "        n1 = num_of_node_name_id.index(i[1])\n",
    "        n2 = num_of_node_name_id.index(i[4])\n",
    "        n3 = num_of_node_name_id.index(i[10])\n",
    "        edges.append((n1,n2))\n",
    "        edges.append((n2,n3))\n",
    "        edges.append((n3,n1))\n",
    "        #print(\"in \", \" : \",i[1],\" and \", i[4])\n",
    "    #print(edges)\n",
    "    \n",
    "    g.add_edges(edges)"
   ]
  },
  {
   "cell_type": "code",
   "execution_count": 366,
   "metadata": {},
   "outputs": [],
   "source": [
    "graph = None\n",
    "graph = Network(notebook=True,directed=False,height=\"600px\",width=\"600px\")"
   ]
  },
  {
   "cell_type": "code",
   "execution_count": 367,
   "metadata": {},
   "outputs": [],
   "source": [
    "create_graph_from_panda(graph,df_new)"
   ]
  },
  {
   "cell_type": "code",
   "execution_count": null,
   "metadata": {},
   "outputs": [],
   "source": []
  },
  {
   "cell_type": "code",
   "execution_count": 368,
   "metadata": {},
   "outputs": [
    {
     "data": {
      "text/html": [
       "\n",
       "        <iframe\n",
       "            width=\"600px\"\n",
       "            height=\"600px\"\n",
       "            src=\"example.html\"\n",
       "            frameborder=\"0\"\n",
       "            allowfullscreen\n",
       "        ></iframe>\n",
       "        "
      ],
      "text/plain": [
       "<IPython.lib.display.IFrame at 0x7f320d56fc18>"
      ]
     },
     "execution_count": 368,
     "metadata": {},
     "output_type": "execute_result"
    }
   ],
   "source": [
    "graph.show(\"example.html\")"
   ]
  },
  {
   "cell_type": "code",
   "execution_count": 369,
   "metadata": {},
   "outputs": [],
   "source": [
    "!sed -i \"s/            width: 600px;//\" example.html\n",
    "!sed -i \"s/            height: 600px;//\" example.html"
   ]
  },
  {
   "cell_type": "code",
   "execution_count": 37,
   "metadata": {},
   "outputs": [],
   "source": []
  },
  {
   "cell_type": "code",
   "execution_count": null,
   "metadata": {},
   "outputs": [],
   "source": []
  }
 ],
 "metadata": {
  "kernelspec": {
   "display_name": "Python 3",
   "language": "python",
   "name": "python3"
  },
  "language_info": {
   "codemirror_mode": {
    "name": "ipython",
    "version": 3
   },
   "file_extension": ".py",
   "mimetype": "text/x-python",
   "name": "python",
   "nbconvert_exporter": "python",
   "pygments_lexer": "ipython3",
   "version": "3.6.7"
  }
 },
 "nbformat": 4,
 "nbformat_minor": 4
}
